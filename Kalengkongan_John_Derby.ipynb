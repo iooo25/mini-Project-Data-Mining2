{
  "nbformat": 4,
  "nbformat_minor": 0,
  "metadata": {
    "colab": {
      "provenance": [],
      "include_colab_link": true
    },
    "kernelspec": {
      "name": "python3",
      "display_name": "Python 3"
    },
    "language_info": {
      "name": "python"
    }
  },
  "cells": [
    {
      "cell_type": "markdown",
      "metadata": {
        "id": "view-in-github",
        "colab_type": "text"
      },
      "source": [
        "<a href=\"https://colab.research.google.com/github/iooo25/mini-Project-Data-Mining2/blob/main/Kalengkongan_John_Derby.ipynb\" target=\"_parent\"><img src=\"https://colab.research.google.com/assets/colab-badge.svg\" alt=\"Open In Colab\"/></a>"
      ]
    },
    {
      "cell_type": "markdown",
      "source": [
        "#Country data set\n"
      ],
      "metadata": {
        "id": "8fF69iN3rWf_"
      }
    },
    {
      "cell_type": "markdown",
      "source": [
        "#**Import Library**"
      ],
      "metadata": {
        "id": "yuiWDmAoUt9g"
      }
    },
    {
      "cell_type": "code",
      "source": [
        "import pandas as pd\n",
        "import matplotlib.pyplot as plt\n",
        "import seaborn as sns"
      ],
      "metadata": {
        "id": "Oo03bY0BUvKn"
      },
      "execution_count": null,
      "outputs": []
    },
    {
      "cell_type": "markdown",
      "source": [
        "#**BUSINESS UNDERSTANDING**"
      ],
      "metadata": {
        "id": "tZWPm9mTU5qc"
      }
    },
    {
      "cell_type": "markdown",
      "source": [
        "##**Business Objective**"
      ],
      "metadata": {
        "id": "LG5022fnU_7u"
      }
    },
    {
      "cell_type": "markdown",
      "source": [
        "Business objective dari penggunaan data negara dapat mencakup beberapa hal, tergantung pada kebutuhan bisnis spesifiknya. Beberapa contoh business objectives yang dapat diambil dari country data set meliput iEkspansi Pasar: Mengidentifikasi negara-negara potensial untuk ekspansi bisnis berdasarkan data demografi, ekonomi, dan sosial."
      ],
      "metadata": {
        "id": "5XnT_msBVBPg"
      }
    },
    {
      "cell_type": "markdown",
      "source": [
        "##**Assess Situation**"
      ],
      "metadata": {
        "id": "QLpfaUCfVJ8y"
      }
    },
    {
      "cell_type": "markdown",
      "source": [
        "Asses situation untuk menilai situasi penggunaan data negara ini, pertimbangkan hal-hal berikut:\n",
        "Ketersediaan Data: Evaluasi sejauh mana data negara ini tersedia, mutakhir, dan akurat. Pastikan data tersebut berasal dari sumber yang dapat dipercaya dan relevan untuk tujuan bisnis. Kebutuhan Bisnis. Tentukan sejauh mana data negara ini dapat memenuhi kebutuhan bisnis. Apakah data tersebut mencakup informasi yang diperlukan untuk mengambil keputusan yang tepat dalam ekspansi pasar, analisis risiko,atau pengembangan produk Kemampuan Analisis: Tinjau kemampuan dalam menganalisis data negara ini. memiliki keahlian dan alat yang diperlukan untuk mengolah data tersebut menjadi wawasan yang berharga bagi bisnis."
      ],
      "metadata": {
        "id": "B5MWQYzWVPVV"
      }
    },
    {
      "cell_type": "markdown",
      "source": [
        "##**Data Mining Goals**"
      ],
      "metadata": {
        "id": "2vy60sWSVQFp"
      }
    },
    {
      "cell_type": "markdown",
      "source": [
        "Tujuan data mining dari penggunaan data negara dapat bervariasi tergantung pada kebutuhan bisnis spesifik Segmentasi Pasar: Mengidentifikasi segmen pasar yang berbeda di berbagai negara berdasarkan karakteristik demografis, geografis, atau perilaku konsumen. Prediksi Tren Pasar: Memprediksi tren pasar di berbagai negara berdasarkan data historis dan faktor-faktor lain yang relevan.\n",
        "\n",
        "- Analisis Sentimen: Menganalisis sentimen publik atau konsumen terhadap produk, merek, atau isu tertentu di berbagai negara. Optimasi Harga: Mengidentifikasi strategi harga yang optimal untuk produk atau layanan di berbagai negara.\n",
        "\n",
        "- Analisis Kompetitif: Menganalisis posisi kompetitif perusahaan di pasar global dan membandingkannya dengan pesaing di berbagai negara."
      ],
      "metadata": {
        "id": "Mc_cEAKLVgwM"
      }
    },
    {
      "cell_type": "markdown",
      "source": [
        "##**Project Plan**"
      ],
      "metadata": {
        "id": "qGV-d-shVszS"
      }
    },
    {
      "cell_type": "markdown",
      "source": [
        "- Pendefinisian Tujuan: Jelaskan dengan jelas tujuan proyek dan bagaimana penggunaan data negara akan mendukung tujuan tersebut. Misalnya, apakah Anda ingin menggunakan data untuk ekspansi pasar, analisis risiko Pengumpulan Data: Identifikasi sumber data negara yang akan Anda gunakan dan pastikan data tersebut relevan, mutakhir, dan dapat diandalkan. Tentukan juga metode pengumpulan data\n",
        "- Analisis Kebutuhan: Lakukan analisis kebutuhan untuk memahami informasi apa yang diperlukan dari data negara untuk mencapai tujuan proyek. Tentukan juga kriteria evaluasi untuk menilai keberhasilan proyek. Perencanaan Sumber Daya: Tentukan sumber daya yang dibutuhkan untuk proyek, termasuk tim, waktu, dan anggaran. Rencanakan juga pengelolaan risiko dan pemantauan proyek.\n",
        "\n",
        "- Analisis Data: Lakukan analisis data untuk mendapatkan wawasan yang dibutuhkan untuk mencapai tujuan proyek. Gunakan teknik data mining dan analisis statistik yang sesuai. Pengembangan Strategi: Berdasarkan hasil analisis data, kembangkan strategi yang sesuai untuk mencapai tujuan proyek. Misalnya, strategi ekspansi pasar atau strategi pemasaran.\n",
        "\n",
        "- Implementasi Strategi: Implementasikan strategi yang telah dikembangkan dan terapkan perubahan yang diperlukan berdasarkan wawasan dari data negara."
      ],
      "metadata": {
        "id": "punPGHWjVt1v"
      }
    },
    {
      "cell_type": "markdown",
      "source": [
        "#**DATA UNDERSTANDING**"
      ],
      "metadata": {
        "id": "ZT7UVbldrl4A"
      }
    },
    {
      "cell_type": "markdown",
      "source": [
        "##**Collect Initial Data**"
      ],
      "metadata": {
        "id": "H7QXXBv2WAd1"
      }
    },
    {
      "cell_type": "code",
      "source": [
        "df = pd.read_csv(\"Country-data.csv\")\n",
        "\n",
        "df.head()"
      ],
      "metadata": {
        "colab": {
          "base_uri": "https://localhost:8080/",
          "height": 206
        },
        "id": "NluJFH7rXVIF",
        "outputId": "a096ed05-470e-45f3-ad55-c9352f374bcf"
      },
      "execution_count": null,
      "outputs": [
        {
          "output_type": "execute_result",
          "data": {
            "text/plain": [
              "               country  child_mort  exports  health  imports  income  \\\n",
              "0          Afghanistan        90.2     10.0    7.58     44.9    1610   \n",
              "1              Albania        16.6     28.0    6.55     48.6    9930   \n",
              "2              Algeria        27.3     38.4    4.17     31.4   12900   \n",
              "3               Angola       119.0     62.3    2.85     42.9    5900   \n",
              "4  Antigua and Barbuda        10.3     45.5    6.03     58.9   19100   \n",
              "\n",
              "   inflation  life_expec  total_fer   gdpp  \n",
              "0       9.44        56.2       5.82    553  \n",
              "1       4.49        76.3       1.65   4090  \n",
              "2      16.10        76.5       2.89   4460  \n",
              "3      22.40        60.1       6.16   3530  \n",
              "4       1.44        76.8       2.13  12200  "
            ],
            "text/html": [
              "\n",
              "  <div id=\"df-045ef38c-dbdc-4e3e-a2e7-9c5acd0a3215\" class=\"colab-df-container\">\n",
              "    <div>\n",
              "<style scoped>\n",
              "    .dataframe tbody tr th:only-of-type {\n",
              "        vertical-align: middle;\n",
              "    }\n",
              "\n",
              "    .dataframe tbody tr th {\n",
              "        vertical-align: top;\n",
              "    }\n",
              "\n",
              "    .dataframe thead th {\n",
              "        text-align: right;\n",
              "    }\n",
              "</style>\n",
              "<table border=\"1\" class=\"dataframe\">\n",
              "  <thead>\n",
              "    <tr style=\"text-align: right;\">\n",
              "      <th></th>\n",
              "      <th>country</th>\n",
              "      <th>child_mort</th>\n",
              "      <th>exports</th>\n",
              "      <th>health</th>\n",
              "      <th>imports</th>\n",
              "      <th>income</th>\n",
              "      <th>inflation</th>\n",
              "      <th>life_expec</th>\n",
              "      <th>total_fer</th>\n",
              "      <th>gdpp</th>\n",
              "    </tr>\n",
              "  </thead>\n",
              "  <tbody>\n",
              "    <tr>\n",
              "      <th>0</th>\n",
              "      <td>Afghanistan</td>\n",
              "      <td>90.2</td>\n",
              "      <td>10.0</td>\n",
              "      <td>7.58</td>\n",
              "      <td>44.9</td>\n",
              "      <td>1610</td>\n",
              "      <td>9.44</td>\n",
              "      <td>56.2</td>\n",
              "      <td>5.82</td>\n",
              "      <td>553</td>\n",
              "    </tr>\n",
              "    <tr>\n",
              "      <th>1</th>\n",
              "      <td>Albania</td>\n",
              "      <td>16.6</td>\n",
              "      <td>28.0</td>\n",
              "      <td>6.55</td>\n",
              "      <td>48.6</td>\n",
              "      <td>9930</td>\n",
              "      <td>4.49</td>\n",
              "      <td>76.3</td>\n",
              "      <td>1.65</td>\n",
              "      <td>4090</td>\n",
              "    </tr>\n",
              "    <tr>\n",
              "      <th>2</th>\n",
              "      <td>Algeria</td>\n",
              "      <td>27.3</td>\n",
              "      <td>38.4</td>\n",
              "      <td>4.17</td>\n",
              "      <td>31.4</td>\n",
              "      <td>12900</td>\n",
              "      <td>16.10</td>\n",
              "      <td>76.5</td>\n",
              "      <td>2.89</td>\n",
              "      <td>4460</td>\n",
              "    </tr>\n",
              "    <tr>\n",
              "      <th>3</th>\n",
              "      <td>Angola</td>\n",
              "      <td>119.0</td>\n",
              "      <td>62.3</td>\n",
              "      <td>2.85</td>\n",
              "      <td>42.9</td>\n",
              "      <td>5900</td>\n",
              "      <td>22.40</td>\n",
              "      <td>60.1</td>\n",
              "      <td>6.16</td>\n",
              "      <td>3530</td>\n",
              "    </tr>\n",
              "    <tr>\n",
              "      <th>4</th>\n",
              "      <td>Antigua and Barbuda</td>\n",
              "      <td>10.3</td>\n",
              "      <td>45.5</td>\n",
              "      <td>6.03</td>\n",
              "      <td>58.9</td>\n",
              "      <td>19100</td>\n",
              "      <td>1.44</td>\n",
              "      <td>76.8</td>\n",
              "      <td>2.13</td>\n",
              "      <td>12200</td>\n",
              "    </tr>\n",
              "  </tbody>\n",
              "</table>\n",
              "</div>\n",
              "    <div class=\"colab-df-buttons\">\n",
              "\n",
              "  <div class=\"colab-df-container\">\n",
              "    <button class=\"colab-df-convert\" onclick=\"convertToInteractive('df-045ef38c-dbdc-4e3e-a2e7-9c5acd0a3215')\"\n",
              "            title=\"Convert this dataframe to an interactive table.\"\n",
              "            style=\"display:none;\">\n",
              "\n",
              "  <svg xmlns=\"http://www.w3.org/2000/svg\" height=\"24px\" viewBox=\"0 -960 960 960\">\n",
              "    <path d=\"M120-120v-720h720v720H120Zm60-500h600v-160H180v160Zm220 220h160v-160H400v160Zm0 220h160v-160H400v160ZM180-400h160v-160H180v160Zm440 0h160v-160H620v160ZM180-180h160v-160H180v160Zm440 0h160v-160H620v160Z\"/>\n",
              "  </svg>\n",
              "    </button>\n",
              "\n",
              "  <style>\n",
              "    .colab-df-container {\n",
              "      display:flex;\n",
              "      gap: 12px;\n",
              "    }\n",
              "\n",
              "    .colab-df-convert {\n",
              "      background-color: #E8F0FE;\n",
              "      border: none;\n",
              "      border-radius: 50%;\n",
              "      cursor: pointer;\n",
              "      display: none;\n",
              "      fill: #1967D2;\n",
              "      height: 32px;\n",
              "      padding: 0 0 0 0;\n",
              "      width: 32px;\n",
              "    }\n",
              "\n",
              "    .colab-df-convert:hover {\n",
              "      background-color: #E2EBFA;\n",
              "      box-shadow: 0px 1px 2px rgba(60, 64, 67, 0.3), 0px 1px 3px 1px rgba(60, 64, 67, 0.15);\n",
              "      fill: #174EA6;\n",
              "    }\n",
              "\n",
              "    .colab-df-buttons div {\n",
              "      margin-bottom: 4px;\n",
              "    }\n",
              "\n",
              "    [theme=dark] .colab-df-convert {\n",
              "      background-color: #3B4455;\n",
              "      fill: #D2E3FC;\n",
              "    }\n",
              "\n",
              "    [theme=dark] .colab-df-convert:hover {\n",
              "      background-color: #434B5C;\n",
              "      box-shadow: 0px 1px 3px 1px rgba(0, 0, 0, 0.15);\n",
              "      filter: drop-shadow(0px 1px 2px rgba(0, 0, 0, 0.3));\n",
              "      fill: #FFFFFF;\n",
              "    }\n",
              "  </style>\n",
              "\n",
              "    <script>\n",
              "      const buttonEl =\n",
              "        document.querySelector('#df-045ef38c-dbdc-4e3e-a2e7-9c5acd0a3215 button.colab-df-convert');\n",
              "      buttonEl.style.display =\n",
              "        google.colab.kernel.accessAllowed ? 'block' : 'none';\n",
              "\n",
              "      async function convertToInteractive(key) {\n",
              "        const element = document.querySelector('#df-045ef38c-dbdc-4e3e-a2e7-9c5acd0a3215');\n",
              "        const dataTable =\n",
              "          await google.colab.kernel.invokeFunction('convertToInteractive',\n",
              "                                                    [key], {});\n",
              "        if (!dataTable) return;\n",
              "\n",
              "        const docLinkHtml = 'Like what you see? Visit the ' +\n",
              "          '<a target=\"_blank\" href=https://colab.research.google.com/notebooks/data_table.ipynb>data table notebook</a>'\n",
              "          + ' to learn more about interactive tables.';\n",
              "        element.innerHTML = '';\n",
              "        dataTable['output_type'] = 'display_data';\n",
              "        await google.colab.output.renderOutput(dataTable, element);\n",
              "        const docLink = document.createElement('div');\n",
              "        docLink.innerHTML = docLinkHtml;\n",
              "        element.appendChild(docLink);\n",
              "      }\n",
              "    </script>\n",
              "  </div>\n",
              "\n",
              "\n",
              "<div id=\"df-ad397f33-0742-4aec-ad7e-d7f20c674d44\">\n",
              "  <button class=\"colab-df-quickchart\" onclick=\"quickchart('df-ad397f33-0742-4aec-ad7e-d7f20c674d44')\"\n",
              "            title=\"Suggest charts\"\n",
              "            style=\"display:none;\">\n",
              "\n",
              "<svg xmlns=\"http://www.w3.org/2000/svg\" height=\"24px\"viewBox=\"0 0 24 24\"\n",
              "     width=\"24px\">\n",
              "    <g>\n",
              "        <path d=\"M19 3H5c-1.1 0-2 .9-2 2v14c0 1.1.9 2 2 2h14c1.1 0 2-.9 2-2V5c0-1.1-.9-2-2-2zM9 17H7v-7h2v7zm4 0h-2V7h2v10zm4 0h-2v-4h2v4z\"/>\n",
              "    </g>\n",
              "</svg>\n",
              "  </button>\n",
              "\n",
              "<style>\n",
              "  .colab-df-quickchart {\n",
              "      --bg-color: #E8F0FE;\n",
              "      --fill-color: #1967D2;\n",
              "      --hover-bg-color: #E2EBFA;\n",
              "      --hover-fill-color: #174EA6;\n",
              "      --disabled-fill-color: #AAA;\n",
              "      --disabled-bg-color: #DDD;\n",
              "  }\n",
              "\n",
              "  [theme=dark] .colab-df-quickchart {\n",
              "      --bg-color: #3B4455;\n",
              "      --fill-color: #D2E3FC;\n",
              "      --hover-bg-color: #434B5C;\n",
              "      --hover-fill-color: #FFFFFF;\n",
              "      --disabled-bg-color: #3B4455;\n",
              "      --disabled-fill-color: #666;\n",
              "  }\n",
              "\n",
              "  .colab-df-quickchart {\n",
              "    background-color: var(--bg-color);\n",
              "    border: none;\n",
              "    border-radius: 50%;\n",
              "    cursor: pointer;\n",
              "    display: none;\n",
              "    fill: var(--fill-color);\n",
              "    height: 32px;\n",
              "    padding: 0;\n",
              "    width: 32px;\n",
              "  }\n",
              "\n",
              "  .colab-df-quickchart:hover {\n",
              "    background-color: var(--hover-bg-color);\n",
              "    box-shadow: 0 1px 2px rgba(60, 64, 67, 0.3), 0 1px 3px 1px rgba(60, 64, 67, 0.15);\n",
              "    fill: var(--button-hover-fill-color);\n",
              "  }\n",
              "\n",
              "  .colab-df-quickchart-complete:disabled,\n",
              "  .colab-df-quickchart-complete:disabled:hover {\n",
              "    background-color: var(--disabled-bg-color);\n",
              "    fill: var(--disabled-fill-color);\n",
              "    box-shadow: none;\n",
              "  }\n",
              "\n",
              "  .colab-df-spinner {\n",
              "    border: 2px solid var(--fill-color);\n",
              "    border-color: transparent;\n",
              "    border-bottom-color: var(--fill-color);\n",
              "    animation:\n",
              "      spin 1s steps(1) infinite;\n",
              "  }\n",
              "\n",
              "  @keyframes spin {\n",
              "    0% {\n",
              "      border-color: transparent;\n",
              "      border-bottom-color: var(--fill-color);\n",
              "      border-left-color: var(--fill-color);\n",
              "    }\n",
              "    20% {\n",
              "      border-color: transparent;\n",
              "      border-left-color: var(--fill-color);\n",
              "      border-top-color: var(--fill-color);\n",
              "    }\n",
              "    30% {\n",
              "      border-color: transparent;\n",
              "      border-left-color: var(--fill-color);\n",
              "      border-top-color: var(--fill-color);\n",
              "      border-right-color: var(--fill-color);\n",
              "    }\n",
              "    40% {\n",
              "      border-color: transparent;\n",
              "      border-right-color: var(--fill-color);\n",
              "      border-top-color: var(--fill-color);\n",
              "    }\n",
              "    60% {\n",
              "      border-color: transparent;\n",
              "      border-right-color: var(--fill-color);\n",
              "    }\n",
              "    80% {\n",
              "      border-color: transparent;\n",
              "      border-right-color: var(--fill-color);\n",
              "      border-bottom-color: var(--fill-color);\n",
              "    }\n",
              "    90% {\n",
              "      border-color: transparent;\n",
              "      border-bottom-color: var(--fill-color);\n",
              "    }\n",
              "  }\n",
              "</style>\n",
              "\n",
              "  <script>\n",
              "    async function quickchart(key) {\n",
              "      const quickchartButtonEl =\n",
              "        document.querySelector('#' + key + ' button');\n",
              "      quickchartButtonEl.disabled = true;  // To prevent multiple clicks.\n",
              "      quickchartButtonEl.classList.add('colab-df-spinner');\n",
              "      try {\n",
              "        const charts = await google.colab.kernel.invokeFunction(\n",
              "            'suggestCharts', [key], {});\n",
              "      } catch (error) {\n",
              "        console.error('Error during call to suggestCharts:', error);\n",
              "      }\n",
              "      quickchartButtonEl.classList.remove('colab-df-spinner');\n",
              "      quickchartButtonEl.classList.add('colab-df-quickchart-complete');\n",
              "    }\n",
              "    (() => {\n",
              "      let quickchartButtonEl =\n",
              "        document.querySelector('#df-ad397f33-0742-4aec-ad7e-d7f20c674d44 button');\n",
              "      quickchartButtonEl.style.display =\n",
              "        google.colab.kernel.accessAllowed ? 'block' : 'none';\n",
              "    })();\n",
              "  </script>\n",
              "</div>\n",
              "    </div>\n",
              "  </div>\n"
            ],
            "application/vnd.google.colaboratory.intrinsic+json": {
              "type": "dataframe",
              "variable_name": "df",
              "summary": "{\n  \"name\": \"df\",\n  \"rows\": 167,\n  \"fields\": [\n    {\n      \"column\": \"country\",\n      \"properties\": {\n        \"dtype\": \"string\",\n        \"num_unique_values\": 167,\n        \"samples\": [\n          \"Micronesia, Fed. Sts.\",\n          \"Namibia\",\n          \"Jordan\"\n        ],\n        \"semantic_type\": \"\",\n        \"description\": \"\"\n      }\n    },\n    {\n      \"column\": \"child_mort\",\n      \"properties\": {\n        \"dtype\": \"number\",\n        \"std\": 40.32893145927617,\n        \"min\": 2.6,\n        \"max\": 208.0,\n        \"num_unique_values\": 139,\n        \"samples\": [\n          17.1,\n          36.9,\n          149.0\n        ],\n        \"semantic_type\": \"\",\n        \"description\": \"\"\n      }\n    },\n    {\n      \"column\": \"exports\",\n      \"properties\": {\n        \"dtype\": \"number\",\n        \"std\": 27.41201011142416,\n        \"min\": 0.109,\n        \"max\": 200.0,\n        \"num_unique_values\": 147,\n        \"samples\": [\n          28.6,\n          57.8,\n          20.4\n        ],\n        \"semantic_type\": \"\",\n        \"description\": \"\"\n      }\n    },\n    {\n      \"column\": \"health\",\n      \"properties\": {\n        \"dtype\": \"number\",\n        \"std\": 2.7468374978890795,\n        \"min\": 1.81,\n        \"max\": 17.9,\n        \"num_unique_values\": 147,\n        \"samples\": [\n          9.54,\n          8.95,\n          3.66\n        ],\n        \"semantic_type\": \"\",\n        \"description\": \"\"\n      }\n    },\n    {\n      \"column\": \"imports\",\n      \"properties\": {\n        \"dtype\": \"number\",\n        \"std\": 24.209588976108698,\n        \"min\": 0.0659,\n        \"max\": 174.0,\n        \"num_unique_values\": 151,\n        \"samples\": [\n          79.9,\n          70.7,\n          101.0\n        ],\n        \"semantic_type\": \"\",\n        \"description\": \"\"\n      }\n    },\n    {\n      \"column\": \"income\",\n      \"properties\": {\n        \"dtype\": \"number\",\n        \"std\": 19278,\n        \"min\": 609,\n        \"max\": 125000,\n        \"num_unique_values\": 156,\n        \"samples\": [\n          7710,\n          17400,\n          18300\n        ],\n        \"semantic_type\": \"\",\n        \"description\": \"\"\n      }\n    },\n    {\n      \"column\": \"inflation\",\n      \"properties\": {\n        \"dtype\": \"number\",\n        \"std\": 10.570703901430559,\n        \"min\": -4.21,\n        \"max\": 104.0,\n        \"num_unique_values\": 156,\n        \"samples\": [\n          3.8,\n          -3.22,\n          0.238\n        ],\n        \"semantic_type\": \"\",\n        \"description\": \"\"\n      }\n    },\n    {\n      \"column\": \"life_expec\",\n      \"properties\": {\n        \"dtype\": \"number\",\n        \"std\": 8.893171908900408,\n        \"min\": 32.1,\n        \"max\": 82.8,\n        \"num_unique_values\": 127,\n        \"samples\": [\n          57.3,\n          81.5,\n          68.2\n        ],\n        \"semantic_type\": \"\",\n        \"description\": \"\"\n      }\n    },\n    {\n      \"column\": \"total_fer\",\n      \"properties\": {\n        \"dtype\": \"number\",\n        \"std\": 1.5138475432630463,\n        \"min\": 1.15,\n        \"max\": 7.49,\n        \"num_unique_values\": 138,\n        \"samples\": [\n          1.27,\n          3.16,\n          2.33\n        ],\n        \"semantic_type\": \"\",\n        \"description\": \"\"\n      }\n    },\n    {\n      \"column\": \"gdpp\",\n      \"properties\": {\n        \"dtype\": \"number\",\n        \"std\": 18328,\n        \"min\": 231,\n        \"max\": 105000,\n        \"num_unique_values\": 157,\n        \"samples\": [\n          10800,\n          4660,\n          22100\n        ],\n        \"semantic_type\": \"\",\n        \"description\": \"\"\n      }\n    }\n  ]\n}"
            }
          },
          "metadata": {},
          "execution_count": 3
        }
      ]
    },
    {
      "cell_type": "markdown",
      "source": [
        "dataset ini saya ambil dari kaggle dan ini linknya https://www.kaggle.com/datasets/parnianmalekian/country-dataset?resource=download"
      ],
      "metadata": {
        "id": "KvbwNpq7XopF"
      }
    },
    {
      "cell_type": "markdown",
      "source": [
        "##**Describe Data**"
      ],
      "metadata": {
        "id": "awo-_MNDX3Vj"
      }
    },
    {
      "cell_type": "markdown",
      "source": [
        "####Informasi Dasar"
      ],
      "metadata": {
        "id": "eLItDE6wX5o-"
      }
    },
    {
      "cell_type": "code",
      "source": [
        "jumlah_baris, jumlah_kolom = df.shape\n",
        "print(f\"Jumlah Baris: {jumlah_baris}\")\n",
        "print(f\"Jumlah Kolom: {jumlah_kolom}\")"
      ],
      "metadata": {
        "colab": {
          "base_uri": "https://localhost:8080/"
        },
        "id": "ru9TfEGRX8ce",
        "outputId": "f02f3128-5563-4ffb-cfd6-ef7bc7bbbba9"
      },
      "execution_count": null,
      "outputs": [
        {
          "output_type": "stream",
          "name": "stdout",
          "text": [
            "Jumlah Baris: 167\n",
            "Jumlah Kolom: 10\n"
          ]
        }
      ]
    },
    {
      "cell_type": "markdown",
      "source": [
        "hasil yang dikeluarkan pada output ini adalah jumlah baris yg berjumlah 167 dan jumlah kolom berjumlah 10."
      ],
      "metadata": {
        "id": "NLtXWZ8GX98c"
      }
    },
    {
      "cell_type": "markdown",
      "source": [
        "####Informasi Lanjutan"
      ],
      "metadata": {
        "id": "oYJQTJLAYUHO"
      }
    },
    {
      "cell_type": "code",
      "source": [
        "df.info()"
      ],
      "metadata": {
        "colab": {
          "base_uri": "https://localhost:8080/"
        },
        "id": "XJVkPETGYWcL",
        "outputId": "238ab6fb-1c8f-49f2-c2e1-801975b3da9e"
      },
      "execution_count": null,
      "outputs": [
        {
          "output_type": "stream",
          "name": "stdout",
          "text": [
            "<class 'pandas.core.frame.DataFrame'>\n",
            "RangeIndex: 167 entries, 0 to 166\n",
            "Data columns (total 10 columns):\n",
            " #   Column      Non-Null Count  Dtype  \n",
            "---  ------      --------------  -----  \n",
            " 0   country     167 non-null    object \n",
            " 1   child_mort  167 non-null    float64\n",
            " 2   exports     167 non-null    float64\n",
            " 3   health      167 non-null    float64\n",
            " 4   imports     167 non-null    float64\n",
            " 5   income      167 non-null    int64  \n",
            " 6   inflation   167 non-null    float64\n",
            " 7   life_expec  167 non-null    float64\n",
            " 8   total_fer   167 non-null    float64\n",
            " 9   gdpp        167 non-null    int64  \n",
            "dtypes: float64(7), int64(2), object(1)\n",
            "memory usage: 13.2+ KB\n"
          ]
        }
      ]
    },
    {
      "cell_type": "markdown",
      "source": [
        "terdapat 10 kolom dengan 167 entri non-null di setiap kolom. Berikut adalah penjelasan untuk masing-masing kolom:\n",
        "\n",
        "- country: Nama negara (tipe data: objek).\n",
        "- child_mort: Tingkat kematian anak-anak di bawah usia 5 tahun per 1000 kelahiran hidup (tipe data: float64).\n",
        "- exports: Persentase dari total GDP yang merupakan ekspor barang dan jasa (tipe data: float64).\n",
        "- health: Persentase dari total GDP yang dihabiskan untuk sektor kesehatan (tipe data: float64).\n",
        "- imports: Persentase dari total GDP yang merupakan impor barang dan jasa (tipe data: float64).\n",
        "- income: Pendapatan per kapita (tipe data: int64).\n",
        "- inflation: Tingkat inflasi tahunan (tipe data: float64).\n",
        "- life_expec: Harapan hidup pada saat kelahiran (tipe data: float64).\n",
        "- total_fer: Jumlah anak per wanita (tipe data: float64).\n",
        "- gdpp: GDP per kapita (tipe data: int64).\n",
        "\n",
        "Jumlah entri non-null dan tipe data masing-masing kolom menunjukkan bahwa tidak ada nilai yang hilang (non-null) dan tipe data masing-masing kolom adalah numerik, kecuali kolom country yang berisi data teks (objek)."
      ],
      "metadata": {
        "id": "THc6s1C9Yqfb"
      }
    },
    {
      "cell_type": "markdown",
      "source": [
        "####Informasi Statistik Deskriptif"
      ],
      "metadata": {
        "id": "lAtrIP6JY9Ca"
      }
    },
    {
      "cell_type": "code",
      "source": [
        "df.describe()"
      ],
      "metadata": {
        "colab": {
          "base_uri": "https://localhost:8080/",
          "height": 300
        },
        "id": "9NTnMsQAaMws",
        "outputId": "1ebb6a40-c5da-49bf-a6d2-c807e48be78a"
      },
      "execution_count": null,
      "outputs": [
        {
          "output_type": "execute_result",
          "data": {
            "text/plain": [
              "       child_mort     exports      health     imports         income  \\\n",
              "count  167.000000  167.000000  167.000000  167.000000     167.000000   \n",
              "mean    38.270060   41.108976    6.815689   46.890215   17144.688623   \n",
              "std     40.328931   27.412010    2.746837   24.209589   19278.067698   \n",
              "min      2.600000    0.109000    1.810000    0.065900     609.000000   \n",
              "25%      8.250000   23.800000    4.920000   30.200000    3355.000000   \n",
              "50%     19.300000   35.000000    6.320000   43.300000    9960.000000   \n",
              "75%     62.100000   51.350000    8.600000   58.750000   22800.000000   \n",
              "max    208.000000  200.000000   17.900000  174.000000  125000.000000   \n",
              "\n",
              "        inflation  life_expec   total_fer           gdpp  \n",
              "count  167.000000  167.000000  167.000000     167.000000  \n",
              "mean     7.781832   70.555689    2.947964   12964.155689  \n",
              "std     10.570704    8.893172    1.513848   18328.704809  \n",
              "min     -4.210000   32.100000    1.150000     231.000000  \n",
              "25%      1.810000   65.300000    1.795000    1330.000000  \n",
              "50%      5.390000   73.100000    2.410000    4660.000000  \n",
              "75%     10.750000   76.800000    3.880000   14050.000000  \n",
              "max    104.000000   82.800000    7.490000  105000.000000  "
            ],
            "text/html": [
              "\n",
              "  <div id=\"df-858cc608-2f8d-4b6b-be34-a1ea98020b2d\" class=\"colab-df-container\">\n",
              "    <div>\n",
              "<style scoped>\n",
              "    .dataframe tbody tr th:only-of-type {\n",
              "        vertical-align: middle;\n",
              "    }\n",
              "\n",
              "    .dataframe tbody tr th {\n",
              "        vertical-align: top;\n",
              "    }\n",
              "\n",
              "    .dataframe thead th {\n",
              "        text-align: right;\n",
              "    }\n",
              "</style>\n",
              "<table border=\"1\" class=\"dataframe\">\n",
              "  <thead>\n",
              "    <tr style=\"text-align: right;\">\n",
              "      <th></th>\n",
              "      <th>child_mort</th>\n",
              "      <th>exports</th>\n",
              "      <th>health</th>\n",
              "      <th>imports</th>\n",
              "      <th>income</th>\n",
              "      <th>inflation</th>\n",
              "      <th>life_expec</th>\n",
              "      <th>total_fer</th>\n",
              "      <th>gdpp</th>\n",
              "    </tr>\n",
              "  </thead>\n",
              "  <tbody>\n",
              "    <tr>\n",
              "      <th>count</th>\n",
              "      <td>167.000000</td>\n",
              "      <td>167.000000</td>\n",
              "      <td>167.000000</td>\n",
              "      <td>167.000000</td>\n",
              "      <td>167.000000</td>\n",
              "      <td>167.000000</td>\n",
              "      <td>167.000000</td>\n",
              "      <td>167.000000</td>\n",
              "      <td>167.000000</td>\n",
              "    </tr>\n",
              "    <tr>\n",
              "      <th>mean</th>\n",
              "      <td>38.270060</td>\n",
              "      <td>41.108976</td>\n",
              "      <td>6.815689</td>\n",
              "      <td>46.890215</td>\n",
              "      <td>17144.688623</td>\n",
              "      <td>7.781832</td>\n",
              "      <td>70.555689</td>\n",
              "      <td>2.947964</td>\n",
              "      <td>12964.155689</td>\n",
              "    </tr>\n",
              "    <tr>\n",
              "      <th>std</th>\n",
              "      <td>40.328931</td>\n",
              "      <td>27.412010</td>\n",
              "      <td>2.746837</td>\n",
              "      <td>24.209589</td>\n",
              "      <td>19278.067698</td>\n",
              "      <td>10.570704</td>\n",
              "      <td>8.893172</td>\n",
              "      <td>1.513848</td>\n",
              "      <td>18328.704809</td>\n",
              "    </tr>\n",
              "    <tr>\n",
              "      <th>min</th>\n",
              "      <td>2.600000</td>\n",
              "      <td>0.109000</td>\n",
              "      <td>1.810000</td>\n",
              "      <td>0.065900</td>\n",
              "      <td>609.000000</td>\n",
              "      <td>-4.210000</td>\n",
              "      <td>32.100000</td>\n",
              "      <td>1.150000</td>\n",
              "      <td>231.000000</td>\n",
              "    </tr>\n",
              "    <tr>\n",
              "      <th>25%</th>\n",
              "      <td>8.250000</td>\n",
              "      <td>23.800000</td>\n",
              "      <td>4.920000</td>\n",
              "      <td>30.200000</td>\n",
              "      <td>3355.000000</td>\n",
              "      <td>1.810000</td>\n",
              "      <td>65.300000</td>\n",
              "      <td>1.795000</td>\n",
              "      <td>1330.000000</td>\n",
              "    </tr>\n",
              "    <tr>\n",
              "      <th>50%</th>\n",
              "      <td>19.300000</td>\n",
              "      <td>35.000000</td>\n",
              "      <td>6.320000</td>\n",
              "      <td>43.300000</td>\n",
              "      <td>9960.000000</td>\n",
              "      <td>5.390000</td>\n",
              "      <td>73.100000</td>\n",
              "      <td>2.410000</td>\n",
              "      <td>4660.000000</td>\n",
              "    </tr>\n",
              "    <tr>\n",
              "      <th>75%</th>\n",
              "      <td>62.100000</td>\n",
              "      <td>51.350000</td>\n",
              "      <td>8.600000</td>\n",
              "      <td>58.750000</td>\n",
              "      <td>22800.000000</td>\n",
              "      <td>10.750000</td>\n",
              "      <td>76.800000</td>\n",
              "      <td>3.880000</td>\n",
              "      <td>14050.000000</td>\n",
              "    </tr>\n",
              "    <tr>\n",
              "      <th>max</th>\n",
              "      <td>208.000000</td>\n",
              "      <td>200.000000</td>\n",
              "      <td>17.900000</td>\n",
              "      <td>174.000000</td>\n",
              "      <td>125000.000000</td>\n",
              "      <td>104.000000</td>\n",
              "      <td>82.800000</td>\n",
              "      <td>7.490000</td>\n",
              "      <td>105000.000000</td>\n",
              "    </tr>\n",
              "  </tbody>\n",
              "</table>\n",
              "</div>\n",
              "    <div class=\"colab-df-buttons\">\n",
              "\n",
              "  <div class=\"colab-df-container\">\n",
              "    <button class=\"colab-df-convert\" onclick=\"convertToInteractive('df-858cc608-2f8d-4b6b-be34-a1ea98020b2d')\"\n",
              "            title=\"Convert this dataframe to an interactive table.\"\n",
              "            style=\"display:none;\">\n",
              "\n",
              "  <svg xmlns=\"http://www.w3.org/2000/svg\" height=\"24px\" viewBox=\"0 -960 960 960\">\n",
              "    <path d=\"M120-120v-720h720v720H120Zm60-500h600v-160H180v160Zm220 220h160v-160H400v160Zm0 220h160v-160H400v160ZM180-400h160v-160H180v160Zm440 0h160v-160H620v160ZM180-180h160v-160H180v160Zm440 0h160v-160H620v160Z\"/>\n",
              "  </svg>\n",
              "    </button>\n",
              "\n",
              "  <style>\n",
              "    .colab-df-container {\n",
              "      display:flex;\n",
              "      gap: 12px;\n",
              "    }\n",
              "\n",
              "    .colab-df-convert {\n",
              "      background-color: #E8F0FE;\n",
              "      border: none;\n",
              "      border-radius: 50%;\n",
              "      cursor: pointer;\n",
              "      display: none;\n",
              "      fill: #1967D2;\n",
              "      height: 32px;\n",
              "      padding: 0 0 0 0;\n",
              "      width: 32px;\n",
              "    }\n",
              "\n",
              "    .colab-df-convert:hover {\n",
              "      background-color: #E2EBFA;\n",
              "      box-shadow: 0px 1px 2px rgba(60, 64, 67, 0.3), 0px 1px 3px 1px rgba(60, 64, 67, 0.15);\n",
              "      fill: #174EA6;\n",
              "    }\n",
              "\n",
              "    .colab-df-buttons div {\n",
              "      margin-bottom: 4px;\n",
              "    }\n",
              "\n",
              "    [theme=dark] .colab-df-convert {\n",
              "      background-color: #3B4455;\n",
              "      fill: #D2E3FC;\n",
              "    }\n",
              "\n",
              "    [theme=dark] .colab-df-convert:hover {\n",
              "      background-color: #434B5C;\n",
              "      box-shadow: 0px 1px 3px 1px rgba(0, 0, 0, 0.15);\n",
              "      filter: drop-shadow(0px 1px 2px rgba(0, 0, 0, 0.3));\n",
              "      fill: #FFFFFF;\n",
              "    }\n",
              "  </style>\n",
              "\n",
              "    <script>\n",
              "      const buttonEl =\n",
              "        document.querySelector('#df-858cc608-2f8d-4b6b-be34-a1ea98020b2d button.colab-df-convert');\n",
              "      buttonEl.style.display =\n",
              "        google.colab.kernel.accessAllowed ? 'block' : 'none';\n",
              "\n",
              "      async function convertToInteractive(key) {\n",
              "        const element = document.querySelector('#df-858cc608-2f8d-4b6b-be34-a1ea98020b2d');\n",
              "        const dataTable =\n",
              "          await google.colab.kernel.invokeFunction('convertToInteractive',\n",
              "                                                    [key], {});\n",
              "        if (!dataTable) return;\n",
              "\n",
              "        const docLinkHtml = 'Like what you see? Visit the ' +\n",
              "          '<a target=\"_blank\" href=https://colab.research.google.com/notebooks/data_table.ipynb>data table notebook</a>'\n",
              "          + ' to learn more about interactive tables.';\n",
              "        element.innerHTML = '';\n",
              "        dataTable['output_type'] = 'display_data';\n",
              "        await google.colab.output.renderOutput(dataTable, element);\n",
              "        const docLink = document.createElement('div');\n",
              "        docLink.innerHTML = docLinkHtml;\n",
              "        element.appendChild(docLink);\n",
              "      }\n",
              "    </script>\n",
              "  </div>\n",
              "\n",
              "\n",
              "<div id=\"df-5c82aef8-f0d0-41b8-9783-631692b62c05\">\n",
              "  <button class=\"colab-df-quickchart\" onclick=\"quickchart('df-5c82aef8-f0d0-41b8-9783-631692b62c05')\"\n",
              "            title=\"Suggest charts\"\n",
              "            style=\"display:none;\">\n",
              "\n",
              "<svg xmlns=\"http://www.w3.org/2000/svg\" height=\"24px\"viewBox=\"0 0 24 24\"\n",
              "     width=\"24px\">\n",
              "    <g>\n",
              "        <path d=\"M19 3H5c-1.1 0-2 .9-2 2v14c0 1.1.9 2 2 2h14c1.1 0 2-.9 2-2V5c0-1.1-.9-2-2-2zM9 17H7v-7h2v7zm4 0h-2V7h2v10zm4 0h-2v-4h2v4z\"/>\n",
              "    </g>\n",
              "</svg>\n",
              "  </button>\n",
              "\n",
              "<style>\n",
              "  .colab-df-quickchart {\n",
              "      --bg-color: #E8F0FE;\n",
              "      --fill-color: #1967D2;\n",
              "      --hover-bg-color: #E2EBFA;\n",
              "      --hover-fill-color: #174EA6;\n",
              "      --disabled-fill-color: #AAA;\n",
              "      --disabled-bg-color: #DDD;\n",
              "  }\n",
              "\n",
              "  [theme=dark] .colab-df-quickchart {\n",
              "      --bg-color: #3B4455;\n",
              "      --fill-color: #D2E3FC;\n",
              "      --hover-bg-color: #434B5C;\n",
              "      --hover-fill-color: #FFFFFF;\n",
              "      --disabled-bg-color: #3B4455;\n",
              "      --disabled-fill-color: #666;\n",
              "  }\n",
              "\n",
              "  .colab-df-quickchart {\n",
              "    background-color: var(--bg-color);\n",
              "    border: none;\n",
              "    border-radius: 50%;\n",
              "    cursor: pointer;\n",
              "    display: none;\n",
              "    fill: var(--fill-color);\n",
              "    height: 32px;\n",
              "    padding: 0;\n",
              "    width: 32px;\n",
              "  }\n",
              "\n",
              "  .colab-df-quickchart:hover {\n",
              "    background-color: var(--hover-bg-color);\n",
              "    box-shadow: 0 1px 2px rgba(60, 64, 67, 0.3), 0 1px 3px 1px rgba(60, 64, 67, 0.15);\n",
              "    fill: var(--button-hover-fill-color);\n",
              "  }\n",
              "\n",
              "  .colab-df-quickchart-complete:disabled,\n",
              "  .colab-df-quickchart-complete:disabled:hover {\n",
              "    background-color: var(--disabled-bg-color);\n",
              "    fill: var(--disabled-fill-color);\n",
              "    box-shadow: none;\n",
              "  }\n",
              "\n",
              "  .colab-df-spinner {\n",
              "    border: 2px solid var(--fill-color);\n",
              "    border-color: transparent;\n",
              "    border-bottom-color: var(--fill-color);\n",
              "    animation:\n",
              "      spin 1s steps(1) infinite;\n",
              "  }\n",
              "\n",
              "  @keyframes spin {\n",
              "    0% {\n",
              "      border-color: transparent;\n",
              "      border-bottom-color: var(--fill-color);\n",
              "      border-left-color: var(--fill-color);\n",
              "    }\n",
              "    20% {\n",
              "      border-color: transparent;\n",
              "      border-left-color: var(--fill-color);\n",
              "      border-top-color: var(--fill-color);\n",
              "    }\n",
              "    30% {\n",
              "      border-color: transparent;\n",
              "      border-left-color: var(--fill-color);\n",
              "      border-top-color: var(--fill-color);\n",
              "      border-right-color: var(--fill-color);\n",
              "    }\n",
              "    40% {\n",
              "      border-color: transparent;\n",
              "      border-right-color: var(--fill-color);\n",
              "      border-top-color: var(--fill-color);\n",
              "    }\n",
              "    60% {\n",
              "      border-color: transparent;\n",
              "      border-right-color: var(--fill-color);\n",
              "    }\n",
              "    80% {\n",
              "      border-color: transparent;\n",
              "      border-right-color: var(--fill-color);\n",
              "      border-bottom-color: var(--fill-color);\n",
              "    }\n",
              "    90% {\n",
              "      border-color: transparent;\n",
              "      border-bottom-color: var(--fill-color);\n",
              "    }\n",
              "  }\n",
              "</style>\n",
              "\n",
              "  <script>\n",
              "    async function quickchart(key) {\n",
              "      const quickchartButtonEl =\n",
              "        document.querySelector('#' + key + ' button');\n",
              "      quickchartButtonEl.disabled = true;  // To prevent multiple clicks.\n",
              "      quickchartButtonEl.classList.add('colab-df-spinner');\n",
              "      try {\n",
              "        const charts = await google.colab.kernel.invokeFunction(\n",
              "            'suggestCharts', [key], {});\n",
              "      } catch (error) {\n",
              "        console.error('Error during call to suggestCharts:', error);\n",
              "      }\n",
              "      quickchartButtonEl.classList.remove('colab-df-spinner');\n",
              "      quickchartButtonEl.classList.add('colab-df-quickchart-complete');\n",
              "    }\n",
              "    (() => {\n",
              "      let quickchartButtonEl =\n",
              "        document.querySelector('#df-5c82aef8-f0d0-41b8-9783-631692b62c05 button');\n",
              "      quickchartButtonEl.style.display =\n",
              "        google.colab.kernel.accessAllowed ? 'block' : 'none';\n",
              "    })();\n",
              "  </script>\n",
              "</div>\n",
              "    </div>\n",
              "  </div>\n"
            ],
            "application/vnd.google.colaboratory.intrinsic+json": {
              "type": "dataframe",
              "summary": "{\n  \"name\": \"df\",\n  \"rows\": 8,\n  \"fields\": [\n    {\n      \"column\": \"child_mort\",\n      \"properties\": {\n        \"dtype\": \"number\",\n        \"std\": 76.81503994065251,\n        \"min\": 2.6,\n        \"max\": 208.0,\n        \"num_unique_values\": 8,\n        \"samples\": [\n          38.27005988023952,\n          19.3,\n          167.0\n        ],\n        \"semantic_type\": \"\",\n        \"description\": \"\"\n      }\n    },\n    {\n      \"column\": \"exports\",\n      \"properties\": {\n        \"dtype\": \"number\",\n        \"std\": 73.2160856931106,\n        \"min\": 0.109,\n        \"max\": 200.0,\n        \"num_unique_values\": 8,\n        \"samples\": [\n          41.108976047904186,\n          35.0,\n          167.0\n        ],\n        \"semantic_type\": \"\",\n        \"description\": \"\"\n      }\n    },\n    {\n      \"column\": \"health\",\n      \"properties\": {\n        \"dtype\": \"number\",\n        \"std\": 56.77866253439305,\n        \"min\": 1.81,\n        \"max\": 167.0,\n        \"num_unique_values\": 8,\n        \"samples\": [\n          6.8156886227544895,\n          6.32,\n          167.0\n        ],\n        \"semantic_type\": \"\",\n        \"description\": \"\"\n      }\n    },\n    {\n      \"column\": \"imports\",\n      \"properties\": {\n        \"dtype\": \"number\",\n        \"std\": 65.61765437881166,\n        \"min\": 0.0659,\n        \"max\": 174.0,\n        \"num_unique_values\": 8,\n        \"samples\": [\n          46.89021497005987,\n          43.3,\n          167.0\n        ],\n        \"semantic_type\": \"\",\n        \"description\": \"\"\n      }\n    },\n    {\n      \"column\": \"income\",\n      \"properties\": {\n        \"dtype\": \"number\",\n        \"std\": 41412.96793774299,\n        \"min\": 167.0,\n        \"max\": 125000.0,\n        \"num_unique_values\": 8,\n        \"samples\": [\n          17144.688622754493,\n          9960.0,\n          167.0\n        ],\n        \"semantic_type\": \"\",\n        \"description\": \"\"\n      }\n    },\n    {\n      \"column\": \"inflation\",\n      \"properties\": {\n        \"dtype\": \"number\",\n        \"std\": 62.74640092713679,\n        \"min\": -4.21,\n        \"max\": 167.0,\n        \"num_unique_values\": 8,\n        \"samples\": [\n          7.781832335329342,\n          5.39,\n          167.0\n        ],\n        \"semantic_type\": \"\",\n        \"description\": \"\"\n      }\n    },\n    {\n      \"column\": \"life_expec\",\n      \"properties\": {\n        \"dtype\": \"number\",\n        \"std\": 45.961645704541574,\n        \"min\": 8.893171908900408,\n        \"max\": 167.0,\n        \"num_unique_values\": 8,\n        \"samples\": [\n          70.55568862275449,\n          73.1,\n          167.0\n        ],\n        \"semantic_type\": \"\",\n        \"description\": \"\"\n      }\n    },\n    {\n      \"column\": \"total_fer\",\n      \"properties\": {\n        \"dtype\": \"number\",\n        \"std\": 58.00825660852101,\n        \"min\": 1.15,\n        \"max\": 167.0,\n        \"num_unique_values\": 8,\n        \"samples\": [\n          2.947964071856287,\n          2.41,\n          167.0\n        ],\n        \"semantic_type\": \"\",\n        \"description\": \"\"\n      }\n    },\n    {\n      \"column\": \"gdpp\",\n      \"properties\": {\n        \"dtype\": \"number\",\n        \"std\": 35212.434235760826,\n        \"min\": 167.0,\n        \"max\": 105000.0,\n        \"num_unique_values\": 8,\n        \"samples\": [\n          12964.155688622754,\n          4660.0,\n          167.0\n        ],\n        \"semantic_type\": \"\",\n        \"description\": \"\"\n      }\n    }\n  ]\n}"
            }
          },
          "metadata": {},
          "execution_count": 6
        }
      ]
    },
    {
      "cell_type": "markdown",
      "source": [
        "Berikut adalah penjelasan untuk masing-masing kolom yang tercantum dalam data tersebut:\n",
        "\n",
        "- child_mort (Tingkat Kematian Anak):\n",
        "\n",
        "Rata-rata: 38.27\n",
        "Standar Deviasi: 40.33\n",
        "Nilai Minimum: 2.6\n",
        "Kuartil Pertama (25%): 8.25\n",
        "Median (50%): 19.3\n",
        "Kuartil Ketiga (75%): 62.1\n",
        "Nilai Maksimum: 208\n",
        "\n",
        "- exports (Ekspor):\n",
        "\n",
        "Rata-rata: 41.11\n",
        "Standar Deviasi: 27.41\n",
        "Nilai Minimum: 0.109\n",
        "Kuartil Pertama (25%): 23.8\n",
        "Median (50%): 35\n",
        "Kuartil Ketiga (75%): 51.35\n",
        "Nilai Maksimum: 200\n",
        "\n",
        "- health (Kesehatan):\n",
        "\n",
        "Rata-rata: 6.82\n",
        "Standar Deviasi: 2.75\n",
        "Nilai Minimum: 1.81\n",
        "Kuartil Pertama (25%): 4.92\n",
        "Median (50%): 6.32\n",
        "Kuartil Ketiga (75%): 8.6\n",
        "Nilai Maksimum: 17.9\n",
        "\n",
        "- imports (Impor):\n",
        "\n",
        "Rata-rata: 46.89\n",
        "Standar Deviasi: 24.21\n",
        "Nilai Minimum: 0.0659\n",
        "Kuartil Pertama (25%): 30.2\n",
        "Median (50%): 43.3\n",
        "Kuartil Ketiga (75%): 58.75\n",
        "Nilai Maksimum: 174\n",
        "\n",
        "- income (Pendapatan):\n",
        "\n",
        "Rata-rata: 17144.69\n",
        "Standar Deviasi: 19278.07\n",
        "Nilai Minimum: 609\n",
        "Kuartil Pertama (25%): 3355\n",
        "Median (50%): 9960\n",
        "Kuartil Ketiga (75%): 22800\n",
        "Nilai Maksimum: 125000\n",
        "\n",
        "- inflation (Inflasi):\n",
        "\n",
        "Rata-rata: 7.78\n",
        "Standar Deviasi: 10.57\n",
        "Nilai Minimum: -4.21\n",
        "Kuartil Pertama (25%): 1.81\n",
        "Median (50%): 5.39\n",
        "Kuartil Ketiga (75%): 10.75\n",
        "Nilai Maksimum: 104\n",
        "\n",
        "- life_expec (Harapan Hidup):\n",
        "\n",
        "Rata-rata: 70.56\n",
        "Standar Deviasi: 8.89\n",
        "Nilai Minimum: 32.1\n",
        "Kuartil Pertama (25%): 65.3\n",
        "Median (50%): 73.1\n",
        "Kuartil Ketiga (75%): 76.8\n",
        "Nilai Maksimum: 82.8\n",
        "\n",
        "- total_fer (Fertilitas Total):\n",
        "\n",
        "Rata-rata: 2.95\n",
        "Standar Deviasi: 1.51\n",
        "Nilai Minimum: 1.15\n",
        "Kuartil Pertama (25%): 1.795\n",
        "Median (50%): 2.41\n",
        "Kuartil Ketiga (75%): 3.88\n",
        "Nilai Maksimum: 7.49\n",
        "\n",
        "- gdpp (GDP per Kapita):\n",
        "\n",
        "Rata-rata: 12964.16\n",
        "Standar Deviasi: 18328.70\n",
        "Nilai Minimum: 231\n",
        "Kuartil Pertama (25%): 1330\n",
        "Median (50%): 4660\n",
        "Kuartil Ketiga (75%): 14050\n",
        "Nilai Maksimum: 105000\n",
        "\n",
        "Dari informasi ini, dapat dilihat bahwa variabel income, inflation, dan gdpp memiliki nilai maksimum yang jauh lebih tinggi daripada nilai kuartil ketiga, menunjukkan adanya outlier yang signifikan. Variabel child_mort, inflation, dan total_fer memiliki standar deviasi yang tinggi, menunjukkan variasi yang signifikan dalam data. Variabel health memiliki nilai minimum yang cukup rendah dibandingkan dengan kuartil pertama dan median, menunjukkan bahwa sejumlah negara memiliki alokasi sumber daya kesehatan yang sangat rendah. Variabel exports dan imports menunjukkan persentase dari total GDP, sehingga nilai-nilai mereka berkisar dari 0 hingga 100, dan tidak memiliki outlier yang signifikan. Variabel life_expec memiliki rentang nilai yang cukup sempit, menunjukkan bahwa harapan hidup di sebagian besar negara dalam data ini relatif seragam."
      ],
      "metadata": {
        "id": "VcKYWvnKaQEW"
      }
    },
    {
      "cell_type": "markdown",
      "source": [
        "##**Exploratory Data Analysis**"
      ],
      "metadata": {
        "id": "LkixXFJwa9OQ"
      }
    },
    {
      "cell_type": "code",
      "source": [
        "columns = ['child_mort', 'exports', 'health', 'imports', 'income', 'inflation', 'life_expec', 'total_fer', 'gdpp']\n",
        "\n",
        "plt.figure(figsize=(10, 8))\n",
        "\n",
        "for i, gdpp in enumerate(columns):\n",
        "    plt.subplot(3, 3, i + 1)\n",
        "    sns.histplot(data=df, x=gdpp, kde=True, bins=15, color='blue')\n",
        "\n",
        "plt.show()"
      ],
      "metadata": {
        "colab": {
          "base_uri": "https://localhost:8080/",
          "height": 696
        },
        "id": "hb0VLYpabGU5",
        "outputId": "3b63e577-e403-4468-a4d9-3e12078a5761"
      },
      "execution_count": null,
      "outputs": [
        {
          "output_type": "display_data",
          "data": {
            "text/plain": [
              "<Figure size 1000x800 with 9 Axes>"
            ],
            "image/png": "[encoded data removed]"
          },
          "metadata": {}
        }
      ]
    },
    {
      "cell_type": "markdown",
      "source": [
        "Visualisasi dan penjelasan untuk setiap kolom:\n",
        "\n",
        "- child_mort: Histogram menunjukkan distribusi tingkat kematian anak-anak di bawah usia 5 tahun. Negara-negara dengan tingkat kematian anak-anak yang tinggi terkonsentrasi di bagian kiri grafik, sementara yang memiliki tingkat kematian anak-anak yang rendah terkonsentrasi di bagian kanan grafik. Asumsi: Semakin tinggi tingkat kematian anak-anak, semakin rendah tingkat harapan hidup (life_expec).\n",
        "\n",
        "- exports: Histogram menunjukkan distribusi persentase dari total GDP yang merupakan ekspor barang dan jasa. Negara-negara dengan tingkat ekspor yang tinggi terkonsentrasi di bagian kanan grafik. Asumsi: Semakin tinggi persentase ekspor, semakin tinggi pula GDP per kapita (gdpp).\n",
        "\n",
        "- health: Histogram menunjukkan distribusi persentase dari total GDP yang dihabiskan untuk sektor kesehatan. Negara-negara dengan tingkat pengeluaran kesehatan yang tinggi terkonsentrasi di bagian kanan grafik. Asumsi: Semakin tinggi persentase pengeluaran kesehatan, semakin tinggi tingkat harapan hidup (life_expec).\n",
        "\n",
        "- imports: Histogram menunjukkan distribusi persentase dari total GDP yang merupakan impor barang dan jasa. Negara-negara dengan tingkat impor yang tinggi terkonsentrasi di bagian kanan grafik. Asumsi: Semakin tinggi persentase impor, semakin tinggi pula tingkat GDP per kapita (gdpp).\n",
        "\n",
        "- income: Histogram menunjukkan distribusi pendapatan per kapita. Negara-negara dengan pendapatan per kapita yang tinggi terkonsentrasi di bagian kanan grafik. Asumsi: Semakin tinggi pendapatan per kapita, semakin tinggi pula tingkat GDP per kapita (gdpp).\n",
        "\n",
        "- inflation: Histogram menunjukkan distribusi tingkat inflasi tahunan. Negara-negara dengan tingkat inflasi yang tinggi terkonsentrasi di bagian kiri grafik. Asumsi: Semakin tinggi inflasi, semakin rendah tingkat GDP per kapita (gdpp).\n",
        "\n",
        "- life_expec: Histogram menunjukkan distribusi harapan hidup pada saat kelahiran. Negara-negara dengan tingkat harapan hidup yang tinggi terkonsentrasi di bagian kanan grafik. Asumsi: Semakin tinggi harapan hidup, semakin tinggi pula tingkat GDP per kapita (gdpp).\n",
        "\n",
        "- total_fer: Histogram menunjukkan distribusi jumlah anak per wanita. Negara-negara dengan jumlah anak per wanita yang tinggi terkonsentrasi di bagian kiri grafik. Asumsi: Semakin tinggi jumlah anak per wanita, semakin rendah tingkat GDP per kapita (gdpp).\n",
        "\n",
        "- gdpp: Histogram menunjukkan distribusi GDP per kapita. Negara-negara dengan GDP per kapita yang tinggi terkonsentrasi di bagian kanan grafik. Asumsi: Semakin tinggi GDP per kapita, semakin tinggi pendapatan per kapita (income)."
      ],
      "metadata": {
        "id": "eIOJfI9wb6k6"
      }
    },
    {
      "cell_type": "code",
      "source": [
        "# Membuat heatmap untuk korelasi antar variabel\n",
        "corr = df.corr(method='pearson')\n",
        "plt.figure(figsize=(10, 8))\n",
        "sns.heatmap(corr, annot=True, cmap='coolwarm', fmt=\".2f\")\n",
        "plt.title('Korelasi antar variabel')\n",
        "plt.show()"
      ],
      "metadata": {
        "colab": {
          "base_uri": "https://localhost:8080/",
          "height": 754
        },
        "id": "sdxDoDc-dwOC",
        "outputId": "58069ac3-19bc-4c21-b911-ca5a0e554441"
      },
      "execution_count": null,
      "outputs": [
        {
          "output_type": "stream",
          "name": "stderr",
          "text": [
            "<ipython-input-9-abb786fda680>:2: FutureWarning: The default value of numeric_only in DataFrame.corr is deprecated. In a future version, it will default to False. Select only valid columns or specify the value of numeric_only to silence this warning.\n",
            "  corr = df.corr(method='pearson')\n"
          ]
        },
        {
          "output_type": "display_data",
          "data": {
            "text/plain": [
              "<Figure size 1000x800 with 2 Axes>"
            ],
            "image/png": "[encoded data removed]"
          },
          "metadata": {}
        }
      ]
    },
    {
      "cell_type": "markdown",
      "source": [
        "Korelasi adalah metode statistik yang digunakan untuk menemukan hubungan antara dua atau lebih variabel. Nilai korelasi dapat berkisar dari -1 hingga +1. Nilai positif menunjukkan hubungan yang semakin kuat ketika satu variabel meningkat, sedangkan nilai negatif menunjukkan hubungan yang semakin kuat ketika satu variabel menurun. Nilai nol menunjukkan tidak adanya hubungan. Korelasi yang kuat adalah ketika nilai mendekati -1 atau +1."
      ],
      "metadata": {
        "id": "6jDjCv1Ud4eO"
      }
    },
    {
      "cell_type": "markdown",
      "source": [
        "##**Verify Data Quality**"
      ],
      "metadata": {
        "id": "tGjcV6fid7rR"
      }
    },
    {
      "cell_type": "markdown",
      "source": [
        "####Missing Values"
      ],
      "metadata": {
        "id": "9F5ECh2seFFZ"
      }
    },
    {
      "cell_type": "code",
      "source": [
        "# Mengecek apakah ada nilai kosong pada setiap kolom\n",
        "missing_values = df.isnull().sum()\n",
        "\n",
        "# Menampilkan jumlah nilai kosong pada tiap kolom\n",
        "print(missing_values)"
      ],
      "metadata": {
        "colab": {
          "base_uri": "https://localhost:8080/"
        },
        "id": "F3MEBeYXeMyG",
        "outputId": "16d36479-7d2e-457a-adbe-b68689b98b77"
      },
      "execution_count": null,
      "outputs": [
        {
          "output_type": "stream",
          "name": "stdout",
          "text": [
            "country       0\n",
            "child_mort    0\n",
            "exports       0\n",
            "health        0\n",
            "imports       0\n",
            "income        0\n",
            "inflation     0\n",
            "life_expec    0\n",
            "total_fer     0\n",
            "gdpp          0\n",
            "dtype: int64\n"
          ]
        }
      ]
    },
    {
      "cell_type": "markdown",
      "source": [
        "Penjelasan untuk setiap kolom, berdasarkan jumlah nilai kosong (NaN) atau tidak, adalah sebagai berikut:\n",
        "\n",
        "- country: Nama negara (tipe data: objek). Tidak ada nilai kosong (NaN) di kolom ini, sehingga tidak perlu dilakukan pengisian atau penghapusan data.\n",
        "\n",
        "- child_mort: Tingkat kematian anak-anak di bawah usia 5 tahun per 1000 kelahiran hidup (tipe data: float64). Tidak ada nilai kosong (NaN) di kolom ini, sehingga tidak perlu dilakukan pengisian atau penghapusan data.\n",
        "\n",
        "- exports: Persentase dari total GDP yang merupakan ekspor barang dan jasa (tipe data: float64). Tidak ada nilai kosong (NaN) di kolom ini, sehingga tidak perlu dilakukan pengisian atau penghapusan data.\n",
        "\n",
        "- health: Persentase dari total GDP yang dihabiskan untuk sektor kesehatan (tipe data: float64). Tidak ada nilai kosong (NaN) di kolom ini, sehingga tidak perlu dilakukan pengisian atau penghapusan data.\n",
        "\n",
        "- imports: Persentase dari total GDP yang merupakan impor barang dan jasa (tipe data: float64). Tidak ada nilai kosong (NaN) di kolom ini, sehingga tidak perlu dilakukan pengisian atau penghapusan data.\n",
        "\n",
        "- income: Pendapatan per kapita (tipe data: int64). Tidak ada nilai kosong (NaN) di kolom ini, sehingga tidak perlu dilakukan pengisian atau penghapusan data.\n",
        "\n",
        "- inflation: Tingkat inflasi tahunan (tipe data: float64). Tidak ada nilai kosong (NaN) di kolom ini, sehingga tidak perlu dilakukan pengisian atau penghapusan data.\n",
        "\n",
        "- life_expec: Harapan hidup pada saat kelahiran (tipe data: float64). Tidak ada nilai kosong (NaN) di kolom ini, sehingga tidak perlu dilakukan pengisian atau penghapusan data.\n",
        "\n",
        "- total_fer: Jumlah anak per wanita (tipe data: float64). Tidak ada nilai kosong (NaN) di kolom ini, sehingga tidak perlu dilakukan pengisian atau penghapusan data.\n",
        "\n",
        "- gdpp: GDP per kapita (tipe data: int64). Tidak ada nilai kosong (NaN) di kolom ini, sehingga tidak perlu dilakukan pengisian atau penghapusan data.\n",
        "\n",
        "Dengan demikian, tidak ada nilai kosong dalam setiap kolom, dan data dapat digunakan untuk analisis atau pemodelan."
      ],
      "metadata": {
        "id": "H86ELqgfeRYH"
      }
    },
    {
      "cell_type": "markdown",
      "source": [
        "####Outliers Values"
      ],
      "metadata": {
        "id": "P_2T3hxGeraW"
      }
    },
    {
      "cell_type": "code",
      "source": [
        "# Mendefinisikan fungsi untuk mendeteksi outliers dan menghitung persentase\n",
        "def detect_outliers(column):\n",
        "    # Convert the column to a numeric data type\n",
        "    column = pd.to_numeric(column, errors='coerce')\n",
        "\n",
        "    # Remove NaN values\n",
        "    column = column.dropna()\n",
        "\n",
        "    Q1 = column.quantile(0.25)\n",
        "    Q3 = column.quantile(0.75)\n",
        "    IQR = Q3 - Q1\n",
        "\n",
        "    # Detect outliers\n",
        "    outliers = (column < (Q1 - 1.5 * IQR)) | (column > (Q3 + 1.5 * IQR))\n",
        "\n",
        "    # Calculate the percentage of outliers\n",
        "    percentage_outliers = outliers.sum() / len(column) * 100\n",
        "\n",
        "    return outliers, percentage_outliers\n",
        "\n",
        "\n",
        "# Loop untuk setiap kolom\n",
        "for column in df.columns:\n",
        "    outliers, percentage_outliers = detect_outliers(df[column])\n",
        "\n",
        "    print(f\"Kolom '{column}':\")\n",
        "    print(f\"  - Jumlah outliers: {outliers.sum()}\")\n",
        "    print(f\"  - Persentase kehadiran outliers: {percentage_outliers:.2f}%\")\n",
        "    print()"
      ],
      "metadata": {
        "colab": {
          "base_uri": "https://localhost:8080/"
        },
        "id": "x1pA_nyUeuP1",
        "outputId": "10b5e9b9-54a7-4859-ea1c-fe865cf2dc72"
      },
      "execution_count": null,
      "outputs": [
        {
          "output_type": "stream",
          "name": "stdout",
          "text": [
            "Kolom 'country':\n",
            "  - Jumlah outliers: 0\n",
            "  - Persentase kehadiran outliers: nan%\n",
            "\n",
            "Kolom 'child_mort':\n",
            "  - Jumlah outliers: 4\n",
            "  - Persentase kehadiran outliers: 2.40%\n",
            "\n",
            "Kolom 'exports':\n",
            "  - Jumlah outliers: 5\n",
            "  - Persentase kehadiran outliers: 2.99%\n",
            "\n",
            "Kolom 'health':\n",
            "  - Jumlah outliers: 2\n",
            "  - Persentase kehadiran outliers: 1.20%\n",
            "\n",
            "Kolom 'imports':\n",
            "  - Jumlah outliers: 4\n",
            "  - Persentase kehadiran outliers: 2.40%\n",
            "\n",
            "Kolom 'income':\n",
            "  - Jumlah outliers: 8\n",
            "  - Persentase kehadiran outliers: 4.79%\n",
            "\n",
            "Kolom 'inflation':\n",
            "  - Jumlah outliers: 5\n",
            "  - Persentase kehadiran outliers: 2.99%\n",
            "\n",
            "Kolom 'life_expec':\n",
            "  - Jumlah outliers: 3\n",
            "  - Persentase kehadiran outliers: 1.80%\n",
            "\n",
            "Kolom 'total_fer':\n",
            "  - Jumlah outliers: 1\n",
            "  - Persentase kehadiran outliers: 0.60%\n",
            "\n",
            "Kolom 'gdpp':\n",
            "  - Jumlah outliers: 25\n",
            "  - Persentase kehadiran outliers: 14.97%\n",
            "\n"
          ]
        },
        {
          "output_type": "stream",
          "name": "stderr",
          "text": [
            "<ipython-input-13-5566fad069cf>:17: RuntimeWarning: invalid value encountered in scalar divide\n",
            "  percentage_outliers = outliers.sum() / len(column) * 100\n"
          ]
        }
      ]
    },
    {
      "cell_type": "markdown",
      "source": [
        "Outlier adalah nilai yang signifikan berbeda dari nilai-nilai lain dalam kumpulan data. Jumlah dan persentase kehadiran outlier dalam setiap kolom adalah sebagai berikut:\n",
        "\n",
        "- country: Tidak ada nilai outlier dalam kolom ini.\n",
        "\n",
        "- child_mort: Ada 4 nilai outlier dalam kolom ini, yang merupakan 2.40% dari total 167 data.\n",
        "\n",
        "- exports: Ada 5 nilai outlier dalam kolom ini, yang merupakan 2.99% dari total 167 data.\n",
        "\n",
        "- health: Ada 2 nilai outlier dalam kolom ini, yang merupakan 1.20% dari total 167 data.\n",
        "\n",
        "- imports: Ada 4 nilai outlier dalam kolom ini, yang merupakan 2.40% dari total 167 data.\n",
        "\n",
        "- income: Ada 8 nilai outlier dalam kolom ini, yang merupakan 4.79% dari total 167 data.\n",
        "\n",
        "- inflation: Ada 5 nilai outlier dalam kolom ini, yang merupakan 2.99% dari total 167 data.\n",
        "\n",
        "- life_expec: Ada 3 nilai outlier dalam kolom ini, yang merupakan 1.80% dari total 167 data.\n",
        "\n",
        "- total_fer: Ada 1 nilai outlier dalam kolom ini, yang merupakan 0.60% dari total 167 data.\n",
        "\n",
        "- gdpp: Ada 25 nilai outlier dalam kolom ini, yang merupakan 14.97% dari total 167 data.\n",
        "\n",
        "Outlier dapat memengaruhi analisis statistik dan pemodelan data. Jika outlier tidak mewakili data yang salah atau tidak relevan, biasanya mereka dihapus atau diubah menjadi nilai lain yang lebih representatif. Jika outlier adalah data yang valid, mereka dapat memperkaya pemahaman tentang fenomena yang dipelajari. Dalam kasus dataset yang diberikan, perlu dicermati apakah outlier tersebut mewakili data yang valid atau tidak."
      ],
      "metadata": {
        "id": "bDvF6WNfe45b"
      }
    },
    {
      "cell_type": "markdown",
      "source": [
        "####Duplicated Values"
      ],
      "metadata": {
        "id": "QEDxolUGfH1u"
      }
    },
    {
      "cell_type": "code",
      "source": [
        "duplicates_by_values = df.duplicated().sum()\n",
        "\n",
        "print(duplicates_by_values)"
      ],
      "metadata": {
        "colab": {
          "base_uri": "https://localhost:8080/"
        },
        "id": "7Bfb_-FMfMsT",
        "outputId": "a550b5b1-686d-4c5d-b3ec-53052ac8ce07"
      },
      "execution_count": null,
      "outputs": [
        {
          "output_type": "stream",
          "name": "stdout",
          "text": [
            "0\n"
          ]
        }
      ]
    },
    {
      "cell_type": "markdown",
      "source": [
        "dari hasil yg ditampilkan diatas tidak ada data yang terduplikat"
      ],
      "metadata": {
        "id": "DAXuHPa8fOq_"
      }
    }
  ]
}